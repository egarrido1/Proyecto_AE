{
 "cells": [
  {
   "cell_type": "markdown",
   "id": "ec8c0a4e-9426-4d44-ac4e-0265acfdf110",
   "metadata": {},
   "source": [
    "## Archivo utils.py contiene los calculos para la matriz de confusión y las diferentes nétricas."
   ]
  },
  {
   "cell_type": "code",
   "execution_count": null,
   "id": "3b62d377-5e0e-4e79-acc9-13cfbf0923f4",
   "metadata": {},
   "outputs": [],
   "source": [
    "\n",
    "# This function computes the Root Mean Square Error (RMSE).\n",
    "def calcula_RMSE(C,eC):\n",
    "    return(np.sqrt((1/C.size)*(np.linalg.norm(C-eC)**2)))\n",
    "\n",
    "# Matriz de confusion\n",
    "def calcula_matriz_confusion(C,eC):\n",
    "    \n",
    "    CM = np.zeros((2,2))\n",
    "    \n",
    "    for i in range(C.size):\n",
    "        \n",
    "        if (C[i] == 0.):\n",
    "            if (C[i] == eC[i]):\n",
    "                CM[0,0] += 1\n",
    "            if (C[i] != eC[i]):\n",
    "                CM[0,1] += 1\n",
    "        \n",
    "        if (C[i] == 1.):\n",
    "            if (C[i] == eC[i]):\n",
    "                CM[1,1] += 1\n",
    "            if (C[i] != eC[i]):\n",
    "                CM[1,0] += 1\n",
    "    \n",
    "    return CM\n",
    "\n",
    "# Función porcentajes \n",
    "def calcula_porcentajes(cm):\n",
    "    p = np.zeros(2)\n",
    "    p[0] = (np.sum(np.diag(cm))/np.sum(cm))*100\n",
    "    p[1] = (np.sum(np.diag(np.rot90(cm)))/np.sum(cm))*100\n",
    "    return p\n",
    "\n",
    "# Función para calcular precisión y recall y F-measure.\n",
    "def calcula_precision_recall_fmeasure(cm,beta=1):\n",
    "    tp = cm[0, 0]  # Verdaderos Positivos\n",
    "    fn = cm[0, 1]  # Falsos Negativos\n",
    "    tn = cm[1, 1]  # Verdaderos Negativos\n",
    "    fp = cm[1, 0]  # Falsos positivos\n",
    "   \n",
    "\n",
    "    # Calculando precisión y recall para clase 0\n",
    "    precision_0 = tp / (tp + fp) \n",
    "    recall_0 = tp / (tp + fn) \n",
    "    \n",
    "    # Calculando precisión y recall para clase 1\n",
    "    precision_1 = tn / (tn + fn) \n",
    "    recall_1 = tn / (tn + fp) \n",
    "\n",
    "    # Calculando F-measure para clase 0\n",
    "    f_measure_0 = (1 + beta**2) * (precision_0 * recall_0) / (beta**2 * precision_0 + recall_0)\n",
    "\n",
    "   \n",
    "    # Calculando F-measure para clase 1\n",
    "    f_measure_1 = (1 + beta**2) * (precision_1 * recall_1) / (beta**2 * precision_1 + recall_1)\n",
    "\n",
    "    print(\"calculando fmeasure dentro de la funcion\")\n",
    "    print(fmeasure_0)\n",
    "    print(fmeasure_1)\n",
    "\n",
    "    return precision_0, recall_0, f_measure_0, precision_1, recall_1, f_measure_1\n"
   ]
  }
 ],
 "metadata": {
  "kernelspec": {
   "display_name": "Python 3 (ipykernel)",
   "language": "python",
   "name": "python3"
  },
  "language_info": {
   "codemirror_mode": {
    "name": "ipython",
    "version": 3
   },
   "file_extension": ".py",
   "mimetype": "text/x-python",
   "name": "python",
   "nbconvert_exporter": "python",
   "pygments_lexer": "ipython3",
   "version": "3.12.7"
  }
 },
 "nbformat": 4,
 "nbformat_minor": 5
}
