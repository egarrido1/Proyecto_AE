{
 "cells": [
  {
   "cell_type": "markdown",
   "id": "c9229d3e-6012-4317-b1a1-cc617e868c85",
   "metadata": {},
   "source": [
    "## Programa para seleccionar las características a representar"
   ]
  },
  {
   "cell_type": "markdown",
   "id": "c6e86a39-32c0-47ed-ab3b-80c3ca768e24",
   "metadata": {},
   "source": [
    "<!DOCTYPE html>\r\n",
    "<html lang=\"es\">\r\n",
    "<head>\r\n",
    "    <meta charset=\"UTF-8\">\r\n",
    "    <title>Selecciona Características para Agrupamiento Espectral</title>\r\n",
    "</head>\r\n",
    "<body>\r\n",
    "    <h3>Selecciona las características:</h3>\r\n",
    "    \r\n",
    "    <!-- Mostrar errores de validación si existen -->\r\n",
    "    {% if error %}\r\n",
    "        <p style=\"color: red;\">{{ error }}</p>\r\n",
    "    {% endif %}\r\n",
    "    \r\n",
    "    <form method=\"post\">\r\n",
    "        <input type=\"checkbox\" name=\"caracteristicas\" value=\"frecuencia\"> Frecuencia fundamental<br>\r\n",
    "        <input type=\"checkbox\" name=\"caracteristicas\" value=\"Ancho_banda\"> Ancho de banda<br>\r\n",
    "        <input type=\"checkbox\" name=\"caracteristicas\" value=\"Centroide\"> Centroide espectral<br>\r\n",
    "        <input type=\"checkbox\" name=\"caracteristicas\" value=\"Entropia\"> Entropía espectral<br>\r\n",
    "        <input type=\"submit\" value=\"Ejecutar\">\r\n",
    "    </form>\r\n",
    "</body>\r\n",
    "</html>\r\n"
   ]
  }
 ],
 "metadata": {
  "kernelspec": {
   "display_name": "Python 3 (ipykernel)",
   "language": "python",
   "name": "python3"
  },
  "language_info": {
   "codemirror_mode": {
    "name": "ipython",
    "version": 3
   },
   "file_extension": ".py",
   "mimetype": "text/x-python",
   "name": "python",
   "nbconvert_exporter": "python",
   "pygments_lexer": "ipython3",
   "version": "3.12.7"
  }
 },
 "nbformat": 4,
 "nbformat_minor": 5
}
